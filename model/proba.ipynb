{
 "cells": [
  {
   "cell_type": "code",
   "execution_count": 1,
   "metadata": {},
   "outputs": [],
   "source": [
    "from collections import defaultdict"
   ]
  },
  {
   "cell_type": "code",
   "execution_count": 2,
   "metadata": {},
   "outputs": [],
   "source": [
    "emission_counts = defaultdict(lambda:defaultdict(int))\n",
    "emission_counts['kaixo']['aaaaa'] +=1\n",
    "emission_counts['kaixo']['aaaaa'] +=1\n",
    "emission_counts['kaixo']['bbb'] +=1\n",
    "emission_counts['kaixo']['bbb'] +=1\n",
    "emission_counts['kaixo']['aaaaa'] +=1\n",
    "emission_counts['kaixo']['aaaaa'] +=1"
   ]
  },
  {
   "cell_type": "code",
   "execution_count": 7,
   "metadata": {},
   "outputs": [
    {
     "name": "stdout",
     "output_type": "stream",
     "text": [
      "aaaaa\n",
      "bbb\n"
     ]
    }
   ],
   "source": [
    "for i in emission_counts['kaixo']:\n",
    "    print(i)"
   ]
  }
 ],
 "metadata": {
  "kernelspec": {
   "display_name": "Python 3",
   "language": "python",
   "name": "python3"
  },
  "language_info": {
   "codemirror_mode": {
    "name": "ipython",
    "version": 3
   },
   "file_extension": ".py",
   "mimetype": "text/x-python",
   "name": "python",
   "nbconvert_exporter": "python",
   "pygments_lexer": "ipython3",
   "version": "3.13.0"
  }
 },
 "nbformat": 4,
 "nbformat_minor": 2
}
